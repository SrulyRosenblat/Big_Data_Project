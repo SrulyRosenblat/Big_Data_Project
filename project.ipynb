{
 "cells": [
  {
   "cell_type": "markdown",
   "metadata": {},
   "source": [
    "parts 1-3 (Yisroel Rosenblat)\n",
    "\n",
    "resources:\n",
    "- https://stackoverflow.com/questions/10610131/checking-if-a-field-contains-a-string\n",
    "- https://stackoverflow.com/questions/26720050/how-to-count-the-number-of-documents-in-a-mongodb-collection\n",
    "- https://stackoverflow.com/questions/9822575/how-to-delete-a-mongodb-collection-in-pymongo\n",
    "\n",
    "Questions asked chat gpt:\n",
    "- inspections.insert_one(document) ```WriteError: _id fields may not contain '$'-prefixed fields: $oid is not valid for storage., full error: {'index': 0, 'code': 52, 'errmsg': \"_id fields may not contain '$'-prefixed fields: $oid is not valid for storage.\"}```\n",
    "\n",
    "\n",
    "\n",
    "\n"
   ]
  },
  {
   "cell_type": "markdown",
   "metadata": {},
   "source": [
    "## setup db and imports"
   ]
  },
  {
   "cell_type": "code",
   "execution_count": 1,
   "metadata": {},
   "outputs": [],
   "source": [
    "import pymongo\n",
    "import json\n",
    "from bson import ObjectId"
   ]
  },
  {
   "cell_type": "code",
   "execution_count": 2,
   "metadata": {},
   "outputs": [],
   "source": [
    "\n",
    "myclient = pymongo.MongoClient(\"mongodb://localhost:27017/\")\n",
    "\n",
    "mydb = myclient[\"Violations\"]\n"
   ]
  },
  {
   "cell_type": "markdown",
   "metadata": {},
   "source": [
    "## step one \n",
    "### insert every object in file into a collection"
   ]
  },
  {
   "cell_type": "code",
   "execution_count": 9,
   "metadata": {},
   "outputs": [
    {
     "name": "stdout",
     "output_type": "stream",
     "text": [
      "loaded file\n"
     ]
    }
   ],
   "source": [
    "\n",
    "\n",
    "inspections = mydb['inspections']\n",
    "\n",
    "# delete db so could rerun easily\n",
    "inspections.drop()\n",
    "\n",
    "\n",
    "with open(\"city_inspections.json\",'r') as f:\n",
    "    for line in f:\n",
    "        document = json.loads(line)\n",
    "        # didnt work because the $ isn't allowed this is a quick fix\n",
    "        document['_id'] = ObjectId(document['_id']['$oid'])\n",
    "        inspections.insert_one(document)\n",
    "        \n",
    "print(\"loaded file\")"
   ]
  },
  {
   "cell_type": "markdown",
   "metadata": {},
   "source": [
    "## step 2\n",
    "### count the total amount for all time, 2015 and 2016\n",
    "\n",
    "Total Incidents: 81047\n",
    "\n",
    "2015 Incidents: 76383\n",
    "\n",
    "2016 Incidents: 4664\n"
   ]
  },
  {
   "cell_type": "code",
   "execution_count": 17,
   "metadata": {},
   "outputs": [],
   "source": [
    "def getCount(year = None) -> int:\n",
    "    \"get the count for a specific year or of everything\"\n",
    "    if year:\n",
    "        return inspections.count_documents({'date':{'$regex':str(year)}})\n",
    "    else:\n",
    "        return inspections.count_documents({})\n",
    "    "
   ]
  },
  {
   "cell_type": "code",
   "execution_count": 18,
   "metadata": {},
   "outputs": [
    {
     "name": "stdout",
     "output_type": "stream",
     "text": [
      "Total Incidents: 81047\n",
      "2015 Incidents: 76383\n",
      "2016 Incidents: 4664\n"
     ]
    }
   ],
   "source": [
    "print(f\"Total Incidents: {getCount()}\")\n",
    "print(f\"2015 Incidents: {getCount(2015)}\")\n",
    "print(f\"2016 Incidents: {getCount(2016)}\")"
   ]
  },
  {
   "cell_type": "markdown",
   "metadata": {},
   "source": [
    "## Step 3 \n",
    "### Find business violations for a certain business"
   ]
  },
  {
   "cell_type": "code",
   "execution_count": 8,
   "metadata": {},
   "outputs": [
    {
     "name": "stdout",
     "output_type": "stream",
     "text": [
      "Business found\n"
     ]
    }
   ],
   "source": [
    "business_name = input(\"enter a business name\")\n",
    "print(\"Business found\" if inspections.find_one({\"business_name\":business_name}) else \"Business Not found\")"
   ]
  }
 ],
 "metadata": {
  "kernelspec": {
   "display_name": ".venv",
   "language": "python",
   "name": "python3"
  },
  "language_info": {
   "codemirror_mode": {
    "name": "ipython",
    "version": 3
   },
   "file_extension": ".py",
   "mimetype": "text/x-python",
   "name": "python",
   "nbconvert_exporter": "python",
   "pygments_lexer": "ipython3",
   "version": "3.11.5"
  }
 },
 "nbformat": 4,
 "nbformat_minor": 2
}
