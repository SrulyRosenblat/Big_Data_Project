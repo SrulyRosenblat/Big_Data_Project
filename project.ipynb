{
 "cells": [
  {
   "cell_type": "markdown",
   "metadata": {},
   "source": [
    "parts 1-3 (Yisroel Rosenblat) <br>\n",
    "parts 4-5 (Massiel Sanchez)\n",
    "\n",
    "resources:\n",
    "- https://stackoverflow.com/questions/10610131/checking-if-a-field-contains-a-string\n",
    "- https://stackoverflow.com/questions/26720050/how-to-count-the-number-of-documents-in-a-mongodb-collection\n",
    "- https://stackoverflow.com/questions/9822575/how-to-delete-a-mongodb-collection-in-pymongo\n",
    "- https://pymongo.readthedocs.io/en/stable/tutorial.html\n",
    " \n",
    "\n",
    "Questions asked chat gpt:\n",
    "- inspections.insert_one(document) ```WriteError: _id fields may not contain '$'-prefixed fields: $oid is not valid for storage., full error: {'index': 0, 'code': 52, 'errmsg': \"_id fields may not contain '$'-prefixed fields: $oid is not valid for storage.\"}```\n",
    "\n",
    "\n",
    "\n",
    "\n"
   ]
  },
  {
   "cell_type": "markdown",
   "metadata": {},
   "source": [
    "## setup db and imports"
   ]
  },
  {
   "cell_type": "code",
   "execution_count": 1,
   "metadata": {},
   "outputs": [],
   "source": [
    "import pymongo\n",
    "import json\n",
    "from bson import ObjectId"
   ]
  },
  {
   "cell_type": "code",
   "execution_count": 2,
   "metadata": {},
   "outputs": [],
   "source": [
    "\n",
    "myclient = pymongo.MongoClient(\"mongodb://localhost:27017/\")\n",
    "\n",
    "mydb = myclient[\"Violations\"]\n"
   ]
  },
  {
   "cell_type": "markdown",
   "metadata": {},
   "source": [
    "## step one \n",
    "### insert every object in file into a collection"
   ]
  },
  {
   "cell_type": "code",
   "execution_count": 3,
   "metadata": {},
   "outputs": [
    {
     "name": "stdout",
     "output_type": "stream",
     "text": [
      "loaded file\n"
     ]
    }
   ],
   "source": [
    "\n",
    "\n",
    "inspections = mydb['inspections']\n",
    "\n",
    "# delete db so could rerun easily\n",
    "inspections.drop()\n",
    "\n",
    "\n",
    "with open(\"city_inspections.json\",'r') as f:\n",
    "    for line in f:\n",
    "        document = json.loads(line)\n",
    "        # didnt work because the $ isn't allowed this is a quick fix\n",
    "        document['_id'] = ObjectId(document['_id']['$oid'])\n",
    "        inspections.insert_one(document)\n",
    "        \n",
    "print(\"loaded file\")"
   ]
  },
  {
   "cell_type": "markdown",
   "metadata": {},
   "source": [
    "## step 2\n",
    "### count the total amount for all time, 2015 and 2016\n",
    "\n",
    "Total Incidents: 81047\n",
    "\n",
    "2015 Incidents: 76383\n",
    "\n",
    "2016 Incidents: 4664\n"
   ]
  },
  {
   "cell_type": "code",
   "execution_count": 4,
   "metadata": {},
   "outputs": [],
   "source": [
    "def getCount(year = None) -> int:\n",
    "    \"get the count for a specific year or of everything\"\n",
    "    if year:\n",
    "        return inspections.count_documents({'date':{'$regex':str(year)}})\n",
    "    else:\n",
    "        return inspections.count_documents({})\n",
    "    "
   ]
  },
  {
   "cell_type": "code",
   "execution_count": 5,
   "metadata": {},
   "outputs": [
    {
     "name": "stdout",
     "output_type": "stream",
     "text": [
      "Total Incidents: 81047\n",
      "2015 Incidents: 76383\n",
      "2016 Incidents: 4664\n"
     ]
    }
   ],
   "source": [
    "print(f\"Total Incidents: {getCount()}\")\n",
    "print(f\"2015 Incidents: {getCount(2015)}\")\n",
    "print(f\"2016 Incidents: {getCount(2016)}\")"
   ]
  },
  {
   "cell_type": "markdown",
   "metadata": {},
   "source": [
    "## Step 3 \n",
    "### Find business violations for a certain business"
   ]
  },
  {
   "cell_type": "code",
   "execution_count": 10,
   "metadata": {},
   "outputs": [
    {
     "name": "stdout",
     "output_type": "stream",
     "text": [
      "Business found\n"
     ]
    }
   ],
   "source": [
    "business_name = input(\"enter a business name\")\n",
    "print(\"Business found\" if inspections.find_one({\"business_name\":business_name}) else \"Business Not found\")"
   ]
  },
  {
   "cell_type": "markdown",
   "metadata": {},
   "source": [
    "## Step 4\n",
    "### Violations in Brooklyn and The Bronx"
   ]
  },
  {
   "cell_type": "code",
   "execution_count": 11,
   "metadata": {},
   "outputs": [
    {
     "name": "stdout",
     "output_type": "stream",
     "text": [
      "Total violations in Brooklyn: 26175\n",
      "Total violations in The Bronx: 12329\n",
      "\n",
      "Total: 38504\n",
      "Difference: 13846\n",
      "\n",
      "First five businesses in Brooklyn:\n",
      "1. NEW FINEST BUILDERS INC\n",
      "1320 E 55TH ST, BROOKLYN, 11234\n",
      "\n",
      "2. NADER R. ABDELREHIM\n",
      "51 NEWELL ST, BROOKLYN, 11222\n",
      "\n",
      "3. AWNING SERVICES\n",
      "450 PENNSYLVANIA AVE, BROOKLYN, 11207\n",
      "\n",
      "4. QADIR AHMAD\n",
      "1107 DORCHESTER RD, BROOKLYN, 11218\n",
      "\n",
      "5. GREENPOINT BARGAINS, INC\n",
      "211 MCGUINESS BLVD, BROOKLYN, \n",
      "\n",
      "First five businesses in Bronx:\n",
      "1. LISANDRO CABRERA\n",
      "2234 PALMER AVE, BRONX, 10475\n",
      "\n",
      "2. THE WAY FOR VETERANS CONTACTING COMPANY LLC.\n",
      "199 LINCOLN AVE, BRONX, 10454\n",
      "\n",
      "3. BABUL MOHAMMED\n",
      "1155 WALTON AVE, BRONX, 10452\n",
      "\n",
      "4. GREGORY WHITE\n",
      "1760 BRUCKNER BLVD, BRONX, 10473\n",
      "\n",
      "5. BABUL MOHAMMED\n",
      "1155 WALTON AVE, BRONX, 10452\n",
      "\n"
     ]
    }
   ],
   "source": [
    "brooklyn_violations = {\"address.city\": \"BROOKLYN\"}\n",
    "bronx_violations = {\"address.city\": \"BRONX\"}\n",
    "\n",
    "# Count violations for Brooklyn and Bronx\n",
    "brooklyn_total = inspections.count_documents(brooklyn_violations)\n",
    "bronx_total = inspections.count_documents(bronx_violations)\n",
    "\n",
    "\n",
    "# Print total violations in Brooklyn and Bronx\n",
    "print(\"Total violations in Brooklyn:\", brooklyn_total)\n",
    "print(\"Total violations in The Bronx:\", bronx_total)\n",
    "print()\n",
    "\n",
    "#Calculate the Sum\n",
    "total_total = brooklyn_total + bronx_total\n",
    "print(\"Total:\", total_total)\n",
    "\n",
    "#Calculate the difference\n",
    "if brooklyn_total > bronx_total:\n",
    "    difference = brooklyn_total - bronx_total\n",
    "else:\n",
    "    difference = bronx_total - brooklyn_total\n",
    "\n",
    "print(\"Difference:\", difference)\n",
    "print()\n",
    "\n",
    "\n",
    "#Print 5 businessess for each City\n",
    "brooklyn_businesses = inspections.find(brooklyn_violations).limit(5)\n",
    "bronx_businesses = inspections.find(bronx_violations).limit(5)\n",
    "\n",
    "print(\"First five businesses in Brooklyn:\")\n",
    "for i, business in enumerate(brooklyn_businesses, start=1):\n",
    "    print(f\"{i}. {business['business_name']}\")\n",
    "    print(\"{number} {street}, {city}, {zip}\".format(**business['address']))\n",
    "    print()\n",
    "\n",
    "print(\"First five businesses in Bronx:\")\n",
    "for i, business in enumerate(bronx_businesses, start=1):\n",
    "    print(f\"{i}. {business['business_name']}\")\n",
    "    print(\"{number} {street}, {city}, {zip}\".format(**business['address']))\n",
    "    print()"
   ]
  },
  {
   "cell_type": "markdown",
   "metadata": {},
   "source": [
    "## Step 5\n",
    "### Print information based on given zip-code"
   ]
  },
  {
   "cell_type": "code",
   "execution_count": 12,
   "metadata": {},
   "outputs": [
    {
     "name": "stdout",
     "output_type": "stream",
     "text": [
      "The total number of business in 10452 : 622\n",
      "5 Randomly selected businesses:\n",
      "1. TWO STARS EXPRESS GROCERY INC.\n",
      "2. JACKELINNE MINI MARKET CORP\n",
      "3. ANA DELI GROCERY CORP.\n",
      "4. COLORINO ROSARIO\n",
      "5. DESTINY DELI GROCERY CORP.\n"
     ]
    }
   ],
   "source": [
    "import random\n",
    "zip_code = input(\"Please Enter Zip Code to Search: \")\n",
    "\n",
    "if len(zip_code) != 5 or not zip_code.isdigit():\n",
    "    print(\"Zip-Code Not Found\")\n",
    "\n",
    "\n",
    "zip_code_int = int(zip_code)\n",
    "\n",
    "#Print total violations in that Zip-Code\n",
    "total = inspections.count_documents({\"address.zip\": zip_code_int})\n",
    "print(\"The total number of business in\", zip_code, \":\", total)\n",
    "\n",
    "#print 5 random businesses\n",
    "business_list = list(inspections.find({\"address.zip\": zip_code_int}))\n",
    "\n",
    "if len(business_list) < 5:\n",
    "    print(\"Less than 5 businesses found in this zip code:\")\n",
    "    for i, business in enumerate(business_list, start=1):\n",
    "        print(f\"{i}. {business['business_name']}\")\n",
    "\n",
    "else:\n",
    "    # Select 5 random businesses\n",
    "    random_businesses = random.sample(business_list, 5)\n",
    "    print(\"5 Randomly selected businesses:\")\n",
    "    for i, business in enumerate(random_businesses, start=1):\n",
    "        print(f\"{i}. {business['business_name']}\")"
   ]
  }
 ],
 "metadata": {
  "kernelspec": {
   "display_name": "Python 3 (ipykernel)",
   "language": "python",
   "name": "python3"
  },
  "language_info": {
   "codemirror_mode": {
    "name": "ipython",
    "version": 3
   },
   "file_extension": ".py",
   "mimetype": "text/x-python",
   "name": "python",
   "nbconvert_exporter": "python",
   "pygments_lexer": "ipython3",
   "version": "3.12.2"
  }
 },
 "nbformat": 4,
 "nbformat_minor": 2
}
